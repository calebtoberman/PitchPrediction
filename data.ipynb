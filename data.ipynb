{
 "cells": [
  {
   "cell_type": "code",
   "execution_count": 1,
   "metadata": {},
   "outputs": [],
   "source": [
    "import pybaseball as pbb\n",
    "import pandas as pd\n",
    "import numpy as np\n",
    "import sklearn"
   ]
  },
  {
   "cell_type": "code",
   "execution_count": 2,
   "metadata": {},
   "outputs": [],
   "source": [
    "def statcast_lookup(first, last, start_date, end_date):\n",
    "    pldf = pbb.playerid_lookup(last, first)\n",
    "    plid = (pldf.loc[0,'key_mlbam'])\n",
    "    return pbb.statcast_pitcher(start_date, end_date, plid)\n",
    "\n",
    "def dataframeDownload(startdate, enddate, filepath, first = 'none', last = 'none'):\n",
    "    if first != 'none' and last != 'none':\n",
    "        indPitch = statcast_lookup(first, last, startdate, enddate)\n",
    "        indPitch.to_csv(filepath)\n",
    "    else:\n",
    "        dataframe = pbb.statcast(startdate, enddate)\n",
    "        dataframe.to_csv(filepath)\n",
    "\n"
   ]
  },
  {
   "cell_type": "code",
   "execution_count": 6,
   "metadata": {},
   "outputs": [
    {
     "name": "stdout",
     "output_type": "stream",
     "text": [
      "Gathering Player Data\n",
      "Gathering Player Data\n",
      "Gathering Player Data\n",
      "Gathering Player Data\n",
      "Gathering Player Data\n",
      "Gathering Player Data\n",
      "Gathering Player Data\n"
     ]
    }
   ],
   "source": [
    "dataframeDownload('2023-01-01', '2023-12-31', r'c:\\Users\\tober\\Documents\\School\\PitchPrediction\\Data\\ClaytonKershaw2023.csv', 'Clayton', 'Kershaw')\n",
    "dataframeDownload('2022-01-01', '2022-12-31', r'c:\\Users\\tober\\Documents\\School\\PitchPrediction\\Data\\ClaytonKershaw2022.csv', 'Clayton', 'Kershaw')\n",
    "dataframeDownload('2021-01-01', '2021-12-31', r'c:\\Users\\tober\\Documents\\School\\PitchPrediction\\Data\\ClaytonKershaw2021.csv', 'Clayton', 'Kershaw')\n",
    "dataframeDownload('2020-01-01', '2020-12-31', r'c:\\Users\\tober\\Documents\\School\\PitchPrediction\\Data\\ClaytonKershaw2020.csv', 'Clayton', 'Kershaw')\n",
    "dataframeDownload('2019-01-01', '2019-12-31', r'c:\\Users\\tober\\Documents\\School\\PitchPrediction\\Data\\ClaytonKershaw2019.csv', 'Clayton', 'Kershaw')\n",
    "dataframeDownload('2018-01-01', '2018-12-31', r'c:\\Users\\tober\\Documents\\School\\PitchPrediction\\Data\\ClaytonKershaw2018.csv', 'Clayton', 'Kershaw')\n",
    "dataframeDownload('2017-01-01', '2017-12-31', r'c:\\Users\\tober\\Documents\\School\\PitchPrediction\\Data\\ClaytonKershaw2017.csv', 'Clayton', 'Kershaw')"
   ]
  }
 ],
 "metadata": {
  "kernelspec": {
   "display_name": "base",
   "language": "python",
   "name": "python3"
  },
  "language_info": {
   "codemirror_mode": {
    "name": "ipython",
    "version": 3
   },
   "file_extension": ".py",
   "mimetype": "text/x-python",
   "name": "python",
   "nbconvert_exporter": "python",
   "pygments_lexer": "ipython3",
   "version": "3.9.13"
  }
 },
 "nbformat": 4,
 "nbformat_minor": 2
}
