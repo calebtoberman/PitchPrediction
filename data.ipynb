{
 "cells": [
  {
   "cell_type": "code",
   "execution_count": 11,
   "metadata": {},
   "outputs": [],
   "source": [
    "import pybaseball as pbb\n",
    "import pandas as pd\n",
    "import numpy as np\n",
    "import sklearn"
   ]
  },
  {
   "cell_type": "code",
   "execution_count": 2,
   "metadata": {},
   "outputs": [],
   "source": [
    "def statcast_lookup(first, last, start_date, end_date):\n",
    "    pldf = pbb.playerid_lookup(last, first)\n",
    "    plid = (pldf.loc[0,'key_mlbam'])\n",
    "    return pbb.statcast_pitcher(start_date, end_date, plid)\n",
    "\n",
    "def dataframeDownload(startdate, enddate, filepath, first = 'none', last = 'none'):\n",
    "    if first != 'none' and last != 'none':\n",
    "        indPitch = statcast_lookup(first, last, startdate, enddate)\n",
    "        indPitch.to_csv(filepath)\n",
    "    else:\n",
    "        dataframe = pbb.statcast(startdate, enddate)\n",
    "        dataframe.to_csv(filepath)\n",
    "\n"
   ]
  },
  {
   "cell_type": "code",
   "execution_count": 5,
   "metadata": {},
   "outputs": [
    {
     "name": "stdout",
     "output_type": "stream",
     "text": [
      "Gathering player lookup table. This may take a moment.\n",
      "Gathering Player Data\n"
     ]
    }
   ],
   "source": [
    "dataframeDownload('2023-03-30', '2023-10-01', r'c:\\Users\\Caleb\\Documents\\SchoolSSD\\Data\\ClaytonKershaw2023.csv', 'Clayton', 'Kershaw')"
   ]
  }
 ],
 "metadata": {
  "kernelspec": {
   "display_name": "base",
   "language": "python",
   "name": "python3"
  },
  "language_info": {
   "codemirror_mode": {
    "name": "ipython",
    "version": 3
   },
   "file_extension": ".py",
   "mimetype": "text/x-python",
   "name": "python",
   "nbconvert_exporter": "python",
   "pygments_lexer": "ipython3",
   "version": "3.11.5"
  }
 },
 "nbformat": 4,
 "nbformat_minor": 2
}
