{
 "cells": [
  {
   "cell_type": "code",
   "execution_count": 2,
   "metadata": {},
   "outputs": [],
   "source": [
    "import pybaseball as pbb\n",
    "import pandas as pd\n",
    "import sklearn\n",
    "import plotly as plt \n",
    "import numpy as np\n",
    "from sklearn.model_selection import train_test_split\n",
    "from sklearn.ensemble import RandomForestClassifier\n",
    "from sklearn.preprocessing import OneHotEncoder\n",
    "from sklearn.naive_bayes import MultinomialNB\n",
    "from sklearn.linear_model import LogisticRegression"
   ]
  },
  {
   "cell_type": "markdown",
   "metadata": {},
   "source": [
    "This is a test."
   ]
  },
  {
   "cell_type": "code",
   "execution_count": 10,
   "metadata": {},
   "outputs": [
    {
     "name": "stdout",
     "output_type": "stream",
     "text": [
      "<class 'pandas.core.frame.DataFrame'>\n",
      "Int64Index: 16534 entries, 0 to 3293\n",
      "Data columns (total 93 columns):\n",
      " #   Column                           Non-Null Count  Dtype  \n",
      "---  ------                           --------------  -----  \n",
      " 0   Unnamed: 0                       16534 non-null  int64  \n",
      " 1   pitch_type                       15647 non-null  object \n",
      " 2   game_date                        16534 non-null  object \n",
      " 3   release_speed                    15648 non-null  float64\n",
      " 4   release_pos_x                    15647 non-null  float64\n",
      " 5   release_pos_z                    15647 non-null  float64\n",
      " 6   player_name                      16534 non-null  object \n",
      " 7   batter                           16534 non-null  int64  \n",
      " 8   pitcher                          16534 non-null  int64  \n",
      " 9   events                           4546 non-null   object \n",
      " 10  description                      16534 non-null  object \n",
      " 11  spin_dir                         0 non-null      float64\n",
      " 12  spin_rate_deprecated             0 non-null      float64\n",
      " 13  break_angle_deprecated           0 non-null      float64\n",
      " 14  break_length_deprecated          0 non-null      float64\n",
      " 15  zone                             15647 non-null  float64\n",
      " 16  des                              16534 non-null  object \n",
      " 17  game_type                        16534 non-null  object \n",
      " 18  stand                            16534 non-null  object \n",
      " 19  p_throws                         16534 non-null  object \n",
      " 20  home_team                        16534 non-null  object \n",
      " 21  away_team                        16534 non-null  object \n",
      " 22  type                             16534 non-null  object \n",
      " 23  hit_location                     4128 non-null   float64\n",
      " 24  bb_type                          3049 non-null   object \n",
      " 25  balls                            16534 non-null  int64  \n",
      " 26  strikes                          16534 non-null  int64  \n",
      " 27  game_year                        16534 non-null  int64  \n",
      " 28  pfx_x                            15647 non-null  float64\n",
      " 29  pfx_z                            15647 non-null  float64\n",
      " 30  plate_x                          15647 non-null  float64\n",
      " 31  plate_z                          15647 non-null  float64\n",
      " 32  on_3b                            972 non-null    float64\n",
      " 33  on_2b                            2430 non-null   float64\n",
      " 34  on_1b                            4142 non-null   float64\n",
      " 35  outs_when_up                     16534 non-null  int64  \n",
      " 36  inning                           16534 non-null  int64  \n",
      " 37  inning_topbot                    16534 non-null  object \n",
      " 38  hc_x                             3003 non-null   float64\n",
      " 39  hc_y                             3003 non-null   float64\n",
      " 40  tfs_deprecated                   0 non-null      float64\n",
      " 41  tfs_zulu_deprecated              0 non-null      float64\n",
      " 42  fielder_2                        16534 non-null  int64  \n",
      " 43  umpire                           0 non-null      float64\n",
      " 44  sv_id                            0 non-null      float64\n",
      " 45  vx0                              15647 non-null  float64\n",
      " 46  vy0                              15647 non-null  float64\n",
      " 47  vz0                              15647 non-null  float64\n",
      " 48  ax                               15647 non-null  float64\n",
      " 49  ay                               15647 non-null  float64\n",
      " 50  az                               15647 non-null  float64\n",
      " 51  sz_top                           15647 non-null  float64\n",
      " 52  sz_bot                           15647 non-null  float64\n",
      " 53  hit_distance_sc                  4500 non-null   float64\n",
      " 54  launch_speed                     4625 non-null   float64\n",
      " 55  launch_angle                     4630 non-null   float64\n",
      " 56  effective_speed                  15738 non-null  float64\n",
      " 57  release_spin_rate                15511 non-null  float64\n",
      " 58  release_extension                15560 non-null  float64\n",
      " 59  game_pk                          16534 non-null  int64  \n",
      " 60  pitcher.1                        16534 non-null  int64  \n",
      " 61  fielder_2.1                      16534 non-null  int64  \n",
      " 62  fielder_3                        16534 non-null  int64  \n",
      " 63  fielder_4                        16534 non-null  int64  \n",
      " 64  fielder_5                        16534 non-null  int64  \n",
      " 65  fielder_6                        16534 non-null  int64  \n",
      " 66  fielder_7                        16534 non-null  int64  \n",
      " 67  fielder_8                        16534 non-null  int64  \n",
      " 68  fielder_9                        16534 non-null  int64  \n",
      " 69  release_pos_y                    15647 non-null  float64\n",
      " 70  estimated_ba_using_speedangle    2765 non-null   float64\n",
      " 71  estimated_woba_using_speedangle  2765 non-null   float64\n",
      " 72  woba_value                       4546 non-null   float64\n",
      " 73  woba_denom                       4114 non-null   float64\n",
      " 74  babip_value                      4546 non-null   float64\n",
      " 75  iso_value                        4546 non-null   float64\n",
      " 76  launch_speed_angle               2765 non-null   float64\n",
      " 77  at_bat_number                    16534 non-null  int64  \n",
      " 78  pitch_number                     16534 non-null  int64  \n",
      " 79  pitch_name                       15647 non-null  object \n",
      " 80  home_score                       16534 non-null  int64  \n",
      " 81  away_score                       16534 non-null  int64  \n",
      " 82  bat_score                        16534 non-null  int64  \n",
      " 83  fld_score                        16534 non-null  int64  \n",
      " 84  post_away_score                  16534 non-null  int64  \n",
      " 85  post_home_score                  16534 non-null  int64  \n",
      " 86  post_bat_score                   16534 non-null  int64  \n",
      " 87  post_fld_score                   16534 non-null  int64  \n",
      " 88  if_fielding_alignment            15744 non-null  object \n",
      " 89  of_fielding_alignment            15744 non-null  object \n",
      " 90  spin_axis                        15546 non-null  float64\n",
      " 91  delta_home_win_exp               16534 non-null  float64\n",
      " 92  delta_run_exp                    15708 non-null  float64\n",
      "dtypes: float64(47), int64(29), object(17)\n",
      "memory usage: 11.9+ MB\n"
     ]
    }
   ],
   "source": [
    "k23 = pd.read_csv(r'c:\\Users\\tober\\Documents\\School\\PitchPrediction\\Data\\ClaytonKershaw2023.csv')\n",
    "k22 = pd.read_csv(r'c:\\Users\\tober\\Documents\\School\\PitchPrediction\\Data\\ClaytonKershaw2022.csv')\n",
    "k21 = pd.read_csv(r'c:\\Users\\tober\\Documents\\School\\PitchPrediction\\Data\\ClaytonKershaw2021.csv')\n",
    "k20 = pd.read_csv(r'c:\\Users\\tober\\Documents\\School\\PitchPrediction\\Data\\ClaytonKershaw2020.csv')\n",
    "k19 = pd.read_csv(r'c:\\Users\\tober\\Documents\\School\\PitchPrediction\\Data\\ClaytonKershaw2019.csv')\n",
    "k18 = pd.read_csv(r'c:\\Users\\tober\\Documents\\School\\PitchPrediction\\Data\\ClaytonKershaw2018.csv')\n",
    "k17 = pd.read_csv(r'c:\\Users\\tober\\Documents\\School\\PitchPrediction\\Data\\ClaytonKershaw2017.csv')\n",
    "seasons = [k23,k22,k21,k20,k19,k18,k17]\n",
    "kershaw = pd.concat(seasons)\n",
    "kershaw.info()"
   ]
  },
  {
   "cell_type": "markdown",
   "metadata": {},
   "source": [
    "Preprocessing below"
   ]
  },
  {
   "cell_type": "code",
   "execution_count": 13,
   "metadata": {},
   "outputs": [
    {
     "data": {
      "text/html": [
       "<div>\n",
       "<style scoped>\n",
       "    .dataframe tbody tr th:only-of-type {\n",
       "        vertical-align: middle;\n",
       "    }\n",
       "\n",
       "    .dataframe tbody tr th {\n",
       "        vertical-align: top;\n",
       "    }\n",
       "\n",
       "    .dataframe thead th {\n",
       "        text-align: right;\n",
       "    }\n",
       "</style>\n",
       "<table border=\"1\" class=\"dataframe\">\n",
       "  <thead>\n",
       "    <tr style=\"text-align: right;\">\n",
       "      <th></th>\n",
       "      <th>pitch_type</th>\n",
       "      <th>balls</th>\n",
       "      <th>strikes</th>\n",
       "      <th>outs_when_up</th>\n",
       "      <th>events</th>\n",
       "    </tr>\n",
       "  </thead>\n",
       "  <tbody>\n",
       "    <tr>\n",
       "      <th>0</th>\n",
       "      <td>FF</td>\n",
       "      <td>0</td>\n",
       "      <td>0</td>\n",
       "      <td>1</td>\n",
       "      <td>double</td>\n",
       "    </tr>\n",
       "    <tr>\n",
       "      <th>1</th>\n",
       "      <td>FF</td>\n",
       "      <td>3</td>\n",
       "      <td>2</td>\n",
       "      <td>1</td>\n",
       "      <td>walk</td>\n",
       "    </tr>\n",
       "    <tr>\n",
       "      <th>2</th>\n",
       "      <td>FF</td>\n",
       "      <td>3</td>\n",
       "      <td>2</td>\n",
       "      <td>1</td>\n",
       "      <td>NaN</td>\n",
       "    </tr>\n",
       "    <tr>\n",
       "      <th>3</th>\n",
       "      <td>SL</td>\n",
       "      <td>2</td>\n",
       "      <td>2</td>\n",
       "      <td>1</td>\n",
       "      <td>NaN</td>\n",
       "    </tr>\n",
       "    <tr>\n",
       "      <th>4</th>\n",
       "      <td>SL</td>\n",
       "      <td>2</td>\n",
       "      <td>2</td>\n",
       "      <td>1</td>\n",
       "      <td>NaN</td>\n",
       "    </tr>\n",
       "    <tr>\n",
       "      <th>...</th>\n",
       "      <td>...</td>\n",
       "      <td>...</td>\n",
       "      <td>...</td>\n",
       "      <td>...</td>\n",
       "      <td>...</td>\n",
       "    </tr>\n",
       "    <tr>\n",
       "      <th>3012</th>\n",
       "      <td>FF</td>\n",
       "      <td>0</td>\n",
       "      <td>0</td>\n",
       "      <td>1</td>\n",
       "      <td>NaN</td>\n",
       "    </tr>\n",
       "    <tr>\n",
       "      <th>3013</th>\n",
       "      <td>CU</td>\n",
       "      <td>1</td>\n",
       "      <td>2</td>\n",
       "      <td>0</td>\n",
       "      <td>strikeout</td>\n",
       "    </tr>\n",
       "    <tr>\n",
       "      <th>3014</th>\n",
       "      <td>FF</td>\n",
       "      <td>0</td>\n",
       "      <td>2</td>\n",
       "      <td>0</td>\n",
       "      <td>NaN</td>\n",
       "    </tr>\n",
       "    <tr>\n",
       "      <th>3015</th>\n",
       "      <td>FF</td>\n",
       "      <td>0</td>\n",
       "      <td>1</td>\n",
       "      <td>0</td>\n",
       "      <td>NaN</td>\n",
       "    </tr>\n",
       "    <tr>\n",
       "      <th>3016</th>\n",
       "      <td>FF</td>\n",
       "      <td>0</td>\n",
       "      <td>0</td>\n",
       "      <td>0</td>\n",
       "      <td>NaN</td>\n",
       "    </tr>\n",
       "  </tbody>\n",
       "</table>\n",
       "<p>15647 rows × 5 columns</p>\n",
       "</div>"
      ],
      "text/plain": [
       "     pitch_type  balls  strikes  outs_when_up     events\n",
       "0            FF      0        0             1     double\n",
       "1            FF      3        2             1       walk\n",
       "2            FF      3        2             1        NaN\n",
       "3            SL      2        2             1        NaN\n",
       "4            SL      2        2             1        NaN\n",
       "...         ...    ...      ...           ...        ...\n",
       "3012         FF      0        0             1        NaN\n",
       "3013         CU      1        2             0  strikeout\n",
       "3014         FF      0        2             0        NaN\n",
       "3015         FF      0        1             0        NaN\n",
       "3016         FF      0        0             0        NaN\n",
       "\n",
       "[15647 rows x 5 columns]"
      ]
     },
     "execution_count": 13,
     "metadata": {},
     "output_type": "execute_result"
    }
   ],
   "source": [
    "ks = kershaw[['pitch_type', 'balls', 'strikes', 'outs_when_up', 'events']]\n",
    "kclean = ks.dropna(axis=0,subset=['pitch_type'])\n",
    "kclean\n"
   ]
  },
  {
   "cell_type": "markdown",
   "metadata": {},
   "source": [
    "RandomForest. Does not perform well.."
   ]
  },
  {
   "cell_type": "code",
   "execution_count": 15,
   "metadata": {},
   "outputs": [
    {
     "name": "stderr",
     "output_type": "stream",
     "text": [
      "C:\\Users\\tober\\AppData\\Local\\Temp\\ipykernel_18248\\2314786245.py:5: DataConversionWarning: A column-vector y was passed when a 1d array was expected. Please change the shape of y to (n_samples,), for example using ravel().\n",
      "  model.fit(X_train, y_train)\n"
     ]
    },
    {
     "name": "stdout",
     "output_type": "stream",
     "text": [
      "Model Accuracy: 0.5009584664536741\n"
     ]
    }
   ],
   "source": [
    "X = kclean[['balls', 'strikes', 'outs_when_up']]\n",
    "y = kclean[['pitch_type']]\n",
    "X_train, X_test, y_train, y_test = train_test_split(X, y, test_size=0.2, random_state=42)\n",
    "model = RandomForestClassifier()\n",
    "model.fit(X_train, y_train)\n",
    "y_pred = model.predict(X_test)\n",
    "\n",
    "accuracy = model.score(X_test, y_test)\n",
    "print(\"Model Accuracy:\", accuracy)"
   ]
  },
  {
   "cell_type": "markdown",
   "metadata": {},
   "source": [
    "Naive Bayes (Broken)"
   ]
  },
  {
   "cell_type": "code",
   "execution_count": 17,
   "metadata": {},
   "outputs": [
    {
     "name": "stdout",
     "output_type": "stream",
     "text": [
      "Model Accuracy: 0.47635782747603833\n"
     ]
    },
    {
     "name": "stderr",
     "output_type": "stream",
     "text": [
      "c:\\Users\\tober\\anaconda3\\lib\\site-packages\\sklearn\\utils\\validation.py:993: DataConversionWarning: A column-vector y was passed when a 1d array was expected. Please change the shape of y to (n_samples, ), for example using ravel().\n",
      "  y = column_or_1d(y, warn=True)\n"
     ]
    }
   ],
   "source": [
    "X = kclean[['balls', 'strikes', 'outs_when_up']]\n",
    "y = kclean[['pitch_type']]\n",
    "X_train, X_test, y_train, y_test = train_test_split(X, y, test_size=0.2, random_state=42)\n",
    "nbmodel = MultinomialNB()\n",
    "nbmodel.fit(X_train, y_train)\n",
    "y_pred = nbmodel.predict(X_test)\n",
    "\n",
    "accuracy = nbmodel.score(X_test, y_test)\n",
    "print(\"Model Accuracy:\", accuracy)"
   ]
  },
  {
   "cell_type": "markdown",
   "metadata": {},
   "source": [
    "Multinomial Logistic Regression\n"
   ]
  },
  {
   "cell_type": "code",
   "execution_count": 19,
   "metadata": {},
   "outputs": [
    {
     "name": "stderr",
     "output_type": "stream",
     "text": [
      "c:\\Users\\tober\\anaconda3\\lib\\site-packages\\sklearn\\utils\\validation.py:993: DataConversionWarning: A column-vector y was passed when a 1d array was expected. Please change the shape of y to (n_samples, ), for example using ravel().\n",
      "  y = column_or_1d(y, warn=True)\n"
     ]
    },
    {
     "name": "stdout",
     "output_type": "stream",
     "text": [
      "Model Accuracy: 0.4776357827476038\n"
     ]
    },
    {
     "name": "stderr",
     "output_type": "stream",
     "text": [
      "c:\\Users\\tober\\anaconda3\\lib\\site-packages\\sklearn\\linear_model\\_logistic.py:814: ConvergenceWarning: lbfgs failed to converge (status=1):\n",
      "STOP: TOTAL NO. of ITERATIONS REACHED LIMIT.\n",
      "\n",
      "Increase the number of iterations (max_iter) or scale the data as shown in:\n",
      "    https://scikit-learn.org/stable/modules/preprocessing.html\n",
      "Please also refer to the documentation for alternative solver options:\n",
      "    https://scikit-learn.org/stable/modules/linear_model.html#logistic-regression\n",
      "  n_iter_i = _check_optimize_result(\n"
     ]
    }
   ],
   "source": [
    "X = kclean[['balls', 'strikes', 'outs_when_up']]\n",
    "y = kclean[['pitch_type']]\n",
    "X_train, X_test, y_train, y_test = train_test_split(X, y, test_size=0.2, random_state=42)\n",
    "LRmodel = LogisticRegression()\n",
    "LRmodel.fit(X_train, y_train)\n",
    "y_pred = LRmodel.predict(X_test)\n",
    "\n",
    "accuracy = LRmodel.score(X_test, y_test)\n",
    "print(\"Model Accuracy:\", accuracy)"
   ]
  }
 ],
 "metadata": {
  "kernelspec": {
   "display_name": "Python 3",
   "language": "python",
   "name": "python3"
  },
  "language_info": {
   "codemirror_mode": {
    "name": "ipython",
    "version": 3
   },
   "file_extension": ".py",
   "mimetype": "text/x-python",
   "name": "python",
   "nbconvert_exporter": "python",
   "pygments_lexer": "ipython3",
   "version": "3.9.13"
  }
 },
 "nbformat": 4,
 "nbformat_minor": 2
}
