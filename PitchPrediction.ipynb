{
 "cells": [
  {
   "cell_type": "code",
   "execution_count": 17,
   "metadata": {},
   "outputs": [],
   "source": [
    "import pybaseball as pbb\n",
    "import pandas as pd\n",
    "import sklearn\n",
    "import plotly as plt \n",
    "import numpy as np\n",
    "from sklearn.model_selection import train_test_split\n",
    "from sklearn.ensemble import RandomForestClassifier\n",
    "from sklearn.preprocessing import OneHotEncoder\n",
    "from sklearn.naive_bayes import MultinomialNB\n",
    "from sklearn.linear_model import LogisticRegression\n",
    "from sklearn.metrics import f1_score\n",
    "from sklearn.metrics import confusion_matrix, ConfusionMatrixDisplay"
   ]
  },
  {
   "cell_type": "markdown",
   "metadata": {},
   "source": [
    "This is a test."
   ]
  },
  {
   "cell_type": "code",
   "execution_count": 104,
   "metadata": {},
   "outputs": [],
   "source": [
    "k23 = pd.read_csv(r'c:\\Users\\tober\\Documents\\School\\PitchPrediction\\Data\\ClaytonKershaw2023.csv')\n",
    "k22 = pd.read_csv(r'c:\\Users\\tober\\Documents\\School\\PitchPrediction\\Data\\ClaytonKershaw2022.csv')\n",
    "k21 = pd.read_csv(r'c:\\Users\\tober\\Documents\\School\\PitchPrediction\\Data\\ClaytonKershaw2021.csv')\n",
    "k20 = pd.read_csv(r'c:\\Users\\tober\\Documents\\School\\PitchPrediction\\Data\\ClaytonKershaw2020.csv')\n",
    "k19 = pd.read_csv(r'c:\\Users\\tober\\Documents\\School\\PitchPrediction\\Data\\ClaytonKershaw2019.csv')\n",
    "k18 = pd.read_csv(r'c:\\Users\\tober\\Documents\\School\\PitchPrediction\\Data\\ClaytonKershaw2018.csv')\n",
    "k17 = pd.read_csv(r'c:\\Users\\tober\\Documents\\School\\PitchPrediction\\Data\\ClaytonKershaw2017.csv')\n",
    "g23 = pd.read_csv(r'c:\\Users\\tober\\Documents\\School\\PitchPrediction\\Data\\GerritCole2023.csv')\n",
    "g22 = pd.read_csv(r'c:\\Users\\tober\\Documents\\School\\PitchPrediction\\Data\\GerritCole2022.csv')\n",
    "g21 = pd.read_csv(r'c:\\Users\\tober\\Documents\\School\\PitchPrediction\\Data\\GerritCole2021.csv')\n",
    "g20 = pd.read_csv(r'c:\\Users\\tober\\Documents\\School\\PitchPrediction\\Data\\GerritCole2020.csv')\n",
    "g19 = pd.read_csv(r'c:\\Users\\tober\\Documents\\School\\PitchPrediction\\Data\\GerritCole2019.csv')\n",
    "g18 = pd.read_csv(r'c:\\Users\\tober\\Documents\\School\\PitchPrediction\\Data\\GerritCole2018.csv')\n",
    "g17 = pd.read_csv(r'c:\\Users\\tober\\Documents\\School\\PitchPrediction\\Data\\GerritCole2017.csv')\n",
    "kseasons = [k23,k22,k21,k20,k19,k18,k17]\n",
    "kershaw = pd.concat(kseasons)\n",
    "gseason= [g23,g22,g21,g20,g19,g18,g17]\n"
   ]
  },
  {
   "cell_type": "markdown",
   "metadata": {},
   "source": [
    "Preprocessing below"
   ]
  },
  {
   "cell_type": "code",
   "execution_count": 105,
   "metadata": {},
   "outputs": [
    {
     "data": {
      "text/html": [
       "<div>\n",
       "<style scoped>\n",
       "    .dataframe tbody tr th:only-of-type {\n",
       "        vertical-align: middle;\n",
       "    }\n",
       "\n",
       "    .dataframe tbody tr th {\n",
       "        vertical-align: top;\n",
       "    }\n",
       "\n",
       "    .dataframe thead th {\n",
       "        text-align: right;\n",
       "    }\n",
       "</style>\n",
       "<table border=\"1\" class=\"dataframe\">\n",
       "  <thead>\n",
       "    <tr style=\"text-align: right;\">\n",
       "      <th></th>\n",
       "      <th>pitch_type</th>\n",
       "      <th>pitcher</th>\n",
       "      <th>balls</th>\n",
       "      <th>strikes</th>\n",
       "      <th>outs_when_up</th>\n",
       "      <th>events</th>\n",
       "      <th>on_1b</th>\n",
       "      <th>on_2b</th>\n",
       "      <th>on_3b</th>\n",
       "      <th>run_differential</th>\n",
       "      <th>at_bat_number</th>\n",
       "    </tr>\n",
       "  </thead>\n",
       "  <tbody>\n",
       "    <tr>\n",
       "      <th>0</th>\n",
       "      <td>FF</td>\n",
       "      <td>477132</td>\n",
       "      <td>0</td>\n",
       "      <td>0</td>\n",
       "      <td>1</td>\n",
       "      <td>double</td>\n",
       "      <td>1</td>\n",
       "      <td>0</td>\n",
       "      <td>0</td>\n",
       "      <td>-5</td>\n",
       "      <td>8</td>\n",
       "    </tr>\n",
       "    <tr>\n",
       "      <th>1</th>\n",
       "      <td>FF</td>\n",
       "      <td>477132</td>\n",
       "      <td>3</td>\n",
       "      <td>2</td>\n",
       "      <td>1</td>\n",
       "      <td>walk</td>\n",
       "      <td>0</td>\n",
       "      <td>0</td>\n",
       "      <td>0</td>\n",
       "      <td>-5</td>\n",
       "      <td>7</td>\n",
       "    </tr>\n",
       "    <tr>\n",
       "      <th>2</th>\n",
       "      <td>FF</td>\n",
       "      <td>477132</td>\n",
       "      <td>3</td>\n",
       "      <td>2</td>\n",
       "      <td>1</td>\n",
       "      <td>NaN</td>\n",
       "      <td>0</td>\n",
       "      <td>0</td>\n",
       "      <td>0</td>\n",
       "      <td>-5</td>\n",
       "      <td>7</td>\n",
       "    </tr>\n",
       "    <tr>\n",
       "      <th>3</th>\n",
       "      <td>SL</td>\n",
       "      <td>477132</td>\n",
       "      <td>2</td>\n",
       "      <td>2</td>\n",
       "      <td>1</td>\n",
       "      <td>NaN</td>\n",
       "      <td>0</td>\n",
       "      <td>0</td>\n",
       "      <td>0</td>\n",
       "      <td>-5</td>\n",
       "      <td>7</td>\n",
       "    </tr>\n",
       "    <tr>\n",
       "      <th>4</th>\n",
       "      <td>SL</td>\n",
       "      <td>477132</td>\n",
       "      <td>2</td>\n",
       "      <td>2</td>\n",
       "      <td>1</td>\n",
       "      <td>NaN</td>\n",
       "      <td>0</td>\n",
       "      <td>0</td>\n",
       "      <td>0</td>\n",
       "      <td>-5</td>\n",
       "      <td>7</td>\n",
       "    </tr>\n",
       "  </tbody>\n",
       "</table>\n",
       "</div>"
      ],
      "text/plain": [
       "  pitch_type  pitcher  balls  strikes  outs_when_up  events  on_1b  on_2b  \\\n",
       "0         FF   477132      0        0             1  double      1      0   \n",
       "1         FF   477132      3        2             1    walk      0      0   \n",
       "2         FF   477132      3        2             1     NaN      0      0   \n",
       "3         SL   477132      2        2             1     NaN      0      0   \n",
       "4         SL   477132      2        2             1     NaN      0      0   \n",
       "\n",
       "   on_3b  run_differential  at_bat_number  \n",
       "0      0                -5              8  \n",
       "1      0                -5              7  \n",
       "2      0                -5              7  \n",
       "3      0                -5              7  \n",
       "4      0                -5              7  "
      ]
     },
     "execution_count": 105,
     "metadata": {},
     "output_type": "execute_result"
    }
   ],
   "source": [
    "kershaw['run_differential'] = kershaw['fld_score'] - kershaw['bat_score']\n",
    "columns = ['on_1b', 'on_2b', 'on_3b']\n",
    "kershaw[columns] = kershaw[columns].fillna(0).applymap(lambda x: 1 if x != 0 else 0)\n",
    "ks = kershaw[['pitch_type', 'pitcher','balls', 'strikes', 'outs_when_up', 'events','on_1b','on_2b','on_3b','run_differential','at_bat_number']]\n",
    "kclean = ks.dropna(axis=0,subset=['pitch_type'])\n",
    "kclean.head()"
   ]
  },
  {
   "cell_type": "markdown",
   "metadata": {},
   "source": [
    "RandomForest."
   ]
  },
  {
   "cell_type": "code",
   "execution_count": 108,
   "metadata": {},
   "outputs": [
    {
     "name": "stderr",
     "output_type": "stream",
     "text": [
      "C:\\Users\\tober\\AppData\\Local\\Temp\\ipykernel_5616\\4153005261.py:5: DataConversionWarning: A column-vector y was passed when a 1d array was expected. Please change the shape of y to (n_samples,), for example using ravel().\n",
      "  model.fit(X_train, y_train)\n"
     ]
    },
    {
     "name": "stdout",
     "output_type": "stream",
     "text": [
      "Model F1 Score: 0.5047923322683706\n"
     ]
    },
    {
     "data": {
      "text/plain": [
       "<sklearn.metrics._plot.confusion_matrix.ConfusionMatrixDisplay at 0x1aae2fb21f0>"
      ]
     },
     "execution_count": 108,
     "metadata": {},
     "output_type": "execute_result"
    },
    {
     "data": {
      "image/png": "[encoded data removed]",
      "text/plain": [
       "<Figure size 640x480 with 2 Axes>"
      ]
     },
     "metadata": {},
     "output_type": "display_data"
    }
   ],
   "source": [
    "X = kclean[['balls', 'strikes', 'outs_when_up','on_1b','on_2b','on_3b']]\n",
    "y = kclean[['pitch_type']]\n",
    "X_train, X_test, y_train, y_test = train_test_split(X, y, test_size=0.2, random_state=42)\n",
    "model = RandomForestClassifier()\n",
    "model.fit(X_train, y_train)\n",
    "y_pred = model.predict(X_test)\n",
    "\n",
    "f1score = f1_score(y_test, y_pred, average = 'micro')\n",
    "print(\"Model F1 Score:\", f1score)\n",
    "conmax = confusion_matrix(y_test, y_pred)\n",
    "ConfusionMatrixDisplay(confusion_matrix=conmax).plot(cmap='gray_r')"
   ]
  },
  {
   "cell_type": "markdown",
   "metadata": {},
   "source": [
    "Naive Bayes"
   ]
  },
  {
   "cell_type": "code",
   "execution_count": 89,
   "metadata": {},
   "outputs": [
    {
     "name": "stderr",
     "output_type": "stream",
     "text": [
      "c:\\Users\\tober\\anaconda3\\lib\\site-packages\\sklearn\\utils\\validation.py:993: DataConversionWarning: A column-vector y was passed when a 1d array was expected. Please change the shape of y to (n_samples, ), for example using ravel().\n",
      "  y = column_or_1d(y, warn=True)\n"
     ]
    },
    {
     "name": "stdout",
     "output_type": "stream",
     "text": [
      "Model F1 Score: 0.4994794377928162\n"
     ]
    }
   ],
   "source": [
    "X = kclean[['balls', 'strikes', 'outs_when_up','on_1b','on_2b','on_3b','pitcher']]\n",
    "y = kclean[['pitch_type']]\n",
    "X_train, X_test, y_train, y_test = train_test_split(X, y, test_size=0.2, random_state=42)\n",
    "nbmodel = MultinomialNB()\n",
    "nbmodel.fit(X_train, y_train)\n",
    "NBy_pred = nbmodel.predict(X_test)\n",
    "\n",
    "nb_f1score = f1_score(y_test, NBy_pred, average = 'micro')\n",
    "print(\"Model F1 Score:\", f1score)\n",
    "#conmax = confusion_matrix(y_test, NBy_pred, labels = )\n",
    "#ConfusionMatrixDisplay(confusion_matrix=conmax).plot(cmap='gray_r')"
   ]
  },
  {
   "cell_type": "markdown",
   "metadata": {},
   "source": [
    "Multinomial Logistic Regression\n"
   ]
  },
  {
   "cell_type": "code",
   "execution_count": 93,
   "metadata": {},
   "outputs": [
    {
     "name": "stderr",
     "output_type": "stream",
     "text": [
      "c:\\Users\\tober\\anaconda3\\lib\\site-packages\\sklearn\\utils\\validation.py:993: DataConversionWarning: A column-vector y was passed when a 1d array was expected. Please change the shape of y to (n_samples, ), for example using ravel().\n",
      "  y = column_or_1d(y, warn=True)\n"
     ]
    },
    {
     "name": "stdout",
     "output_type": "stream",
     "text": [
      "Model F1 Score: 0.46434148880791254\n"
     ]
    }
   ],
   "source": [
    "X = kclean[['balls', 'strikes', 'outs_when_up','on_1b','on_2b','on_3b', 'pitcher']]\n",
    "y = kclean[['pitch_type']]\n",
    "X_train, X_test, y_train, y_test = train_test_split(X, y, test_size=0.2, random_state=42)\n",
    "LRmodel = LogisticRegression()\n",
    "LRmodel.fit(X_train, y_train)\n",
    "y_pred = LRmodel.predict(X_test)\n",
    "\n",
    "f1score = f1_score(y_test, y_pred, average = 'micro')\n",
    "print(\"Model F1 Score:\", f1score)\n",
    "#conmax = confusion_matrix(y_test, y_pred)\n",
    "#ConfusionMatrixDisplay(confusion_matrix=conmax).plot(cmap='gray_r')"
   ]
  }
 ],
 "metadata": {
  "kernelspec": {
   "display_name": "Python 3",
   "language": "python",
   "name": "python3"
  },
  "language_info": {
   "codemirror_mode": {
    "name": "ipython",
    "version": 3
   },
   "file_extension": ".py",
   "mimetype": "text/x-python",
   "name": "python",
   "nbconvert_exporter": "python",
   "pygments_lexer": "ipython3",
   "version": "3.9.13"
  }
 },
 "nbformat": 4,
 "nbformat_minor": 2
}
